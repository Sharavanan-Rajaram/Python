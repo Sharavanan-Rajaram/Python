{
 "cells": [
  {
   "cell_type": "raw",
   "metadata": {},
   "source": [
    "Validate the email address using the following conditions\n",
    "     a. Check for '@' symbol, it should be only 1\n",
    "     b. Only lower case letters are allowed\n",
    "     c. Numbers are allowed\n",
    "     e. No symbols allowed other than '.' & '_'"
   ]
  },
  {
   "cell_type": "code",
   "execution_count": 4,
   "metadata": {},
   "outputs": [
    {
     "name": "stdout",
     "output_type": "stream",
     "text": [
      "Enter the email address: Sharan@123.com\n",
      "The input should contain only lowercase\n"
     ]
    }
   ],
   "source": [
    "email_id=input('Enter the email address: ')\n",
    "symbols = '!#$%*&^'\n",
    "\n",
    "lower_flag=0\n",
    "symbol_flag=0\n",
    "number_flag=0\n",
    "unallowedSymbols_flag=0\n",
    "\n",
    "if(email_id.islower()):\n",
    "    lower_flag=1\n",
    "if(email_id.count('@')==1):\n",
    "    symbol_flag=1\n",
    "if(email_id.count('@')>1):\n",
    "    symbol_flag=2\n",
    "    \n",
    "for i in email_id:\n",
    "    if(i.isdigit()):     \n",
    "        number_flag=1\n",
    "    if(i in symbols):    \n",
    "        unallowedSymbols_flag=1\n",
    "\n",
    "if (lower_flag and symbol_flag == 1) and (number_flag == 0 or number_flag == 1) and (unallowedSymbols_flag==0):\n",
    "    print('Email is valid')\n",
    "else:\n",
    "    if(lower_flag==0):\n",
    "        print('The email id should contain only lowercase')\n",
    "    if(symbol_flag==0):\n",
    "        print('The email id should contain one @ symbol')\n",
    "    if(symbol_flag==2):\n",
    "        print('''The email idcontains more than one @ symbol. \n",
    "              The email id should only contain one @ symbol''')\n",
    "    if(unallowedSymbols_flag==1):\n",
    "        print('The symbols !#$%*&^ are not allowed in email id')"
   ]
  }
 ],
 "metadata": {
  "kernelspec": {
   "display_name": "Python 3",
   "language": "python",
   "name": "python3"
  },
  "language_info": {
   "codemirror_mode": {
    "name": "ipython",
    "version": 3
   },
   "file_extension": ".py",
   "mimetype": "text/x-python",
   "name": "python",
   "nbconvert_exporter": "python",
   "pygments_lexer": "ipython3",
   "version": "3.7.6"
  }
 },
 "nbformat": 4,
 "nbformat_minor": 4
}
