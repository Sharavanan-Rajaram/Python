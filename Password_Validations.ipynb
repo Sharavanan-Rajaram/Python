{
 "cells": [
  {
   "cell_type": "raw",
   "metadata": {},
   "source": [
    "Create a password checker. Get username and password from user\n",
    "\n",
    "Rule to be followed\n",
    "\n",
    "1) Minimum 8 characters\n",
    "2) Should be a Alphanumeric(aleast one alphabet and one number)\n",
    "3) Should contain minimum 1 special Character -[!@#$%^&*]\n",
    "4) password should not be same as the username\n",
    "\n",
    "If password satisfies all the condition, print password is valid, if it not satisying, print the condition which are not satisfying."
   ]
  },
  {
   "cell_type": "code",
   "execution_count": null,
   "metadata": {},
   "outputs": [],
   "source": [
    "uname=input('Enter the Username:')\n",
    "pwd=input('Enter the Password: ')\n",
    "spec_char='!@#$%^&*'\n",
    "\n",
    "alpha_flag=0\n",
    "num_flag=0\n",
    "spec_flag=0\n",
    "\n",
    "for i in pwd:\n",
    "    if(i.isalpha()):\n",
    "        alpha_flag=1\n",
    "    elif(i.isdigit()):\n",
    "        num_flag=1\n",
    "    elif(i in spec_char):\n",
    "        spec_flag=1\n",
    "        \n",
    "if(len(pwd)<8):\n",
    "    print('The Password must contain more than 8 characters')\n",
    "if(alpha_flag==0 or num_flag==0):\n",
    "    print('The Password should contain alphanumeric character')\n",
    "if(spec_flag==0):\n",
    "    print('The Password should contain atleast one special character')\n",
    "if(uname==pwd):\n",
    "    print('Username and Password cannot be same')\n",
    "    \n",
    "if(alpha_flag and num_flag and spec_flag == 1) and (uname!=pwd) and (len(pwd)>=8):\n",
    "    print('Password is valid')"
   ]
  }
 ],
 "metadata": {
  "kernelspec": {
   "display_name": "Python 3",
   "language": "python",
   "name": "python3"
  },
  "language_info": {
   "codemirror_mode": {
    "name": "ipython",
    "version": 3
   },
   "file_extension": ".py",
   "mimetype": "text/x-python",
   "name": "python",
   "nbconvert_exporter": "python",
   "pygments_lexer": "ipython3",
   "version": "3.7.6"
  }
 },
 "nbformat": 4,
 "nbformat_minor": 4
}
