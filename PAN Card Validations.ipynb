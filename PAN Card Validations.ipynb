{
 "cells": [
  {
   "cell_type": "raw",
   "metadata": {},
   "source": [
    "Validate PAN Card Number\n",
    "\n",
    "1. Length must be 10 characters\n",
    "2. First 5 characters must be upper case Aplphabets.\n",
    "3. Next four characters must be Number (0 to 9)\n",
    "4. Last character must be upper case alphabat\n",
    "5. Must not contain any other special symbols"
   ]
  },
  {
   "cell_type": "code",
   "execution_count": 11,
   "metadata": {},
   "outputs": [
    {
     "name": "stdout",
     "output_type": "stream",
     "text": [
      "Enter the PAN card number:AB!CDE4567A\n",
      "The First 5 characters must be Alphabets in Uppercase\n",
      "The characters from 6 to 9 should contain only\n",
      "The length on PAN number must be exactly 10\n",
      "The PANCARD number should not contain any Special characters\n"
     ]
    }
   ],
   "source": [
    "panNumber=input('Enter the PAN card number:')\n",
    "spec_char='~!@#$%^&*?'\n",
    "\n",
    "fivecharUpper=0\n",
    "lastcharUpper=0\n",
    "numbers=0\n",
    "spec_flag=0\n",
    "\n",
    "for i in panNumber:\n",
    "    if(i in spec_char):\n",
    "        spec_flag=1\n",
    "\n",
    "for i in range(0,5):\n",
    "    if(panNumber[i].isupper() and panNumber[i].isalpha()):\n",
    "        fivecharUpper=1\n",
    "    else:\n",
    "        fivecharUpper=0\n",
    "        break\n",
    "\n",
    "if(panNumber[-1].isupper()):\n",
    "    lastcharUpper=1\n",
    "    \n",
    "for i in range(5,9):   \n",
    "    if(panNumber[i].isdigit()):\n",
    "        numbers=1\n",
    "    else:\n",
    "        numbers=0\n",
    "        break\n",
    "    \n",
    "if (fivecharUpper and lastcharUpper and numbers == 1) and (len(panNumber)==10) and (spec_flag==0):\n",
    "    print('PANCARD is valid')\n",
    "else:\n",
    "    if(fivecharUpper==0):\n",
    "        print('The First 5 characters must be Alphabets in Uppercase')\n",
    "    if(lastcharUpper==0):\n",
    "        print('The Last character must be an Alphabet in Uppercase')\n",
    "    if(numbers==0):\n",
    "        print('The characters from 6 to 9 should contain only')\n",
    "    if(len(panNumber)>10)   :\n",
    "        print('The length on PAN number must be exactly 10')\n",
    "    if(spec_flag==1):\n",
    "        print('The PANCARD number should not contain any Special characters')"
   ]
  }
 ],
 "metadata": {
  "kernelspec": {
   "display_name": "Python 3",
   "language": "python",
   "name": "python3"
  },
  "language_info": {
   "codemirror_mode": {
    "name": "ipython",
    "version": 3
   },
   "file_extension": ".py",
   "mimetype": "text/x-python",
   "name": "python",
   "nbconvert_exporter": "python",
   "pygments_lexer": "ipython3",
   "version": "3.7.6"
  }
 },
 "nbformat": 4,
 "nbformat_minor": 4
}
